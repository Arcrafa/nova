{
 "cells": [
  {
   "cell_type": "code",
   "execution_count": 1,
   "metadata": {
    "collapsed": true,
    "pycharm": {
     "name": "#%%\n"
    }
   },
   "outputs": [],
   "source": [
    "import h5py\n",
    "import os\n",
    "import pandas as pd\n",
    "import numpy as np\n",
    "from imblearn.under_sampling import NearMiss\n",
    "from PandAna import *"
   ]
  },
  {
   "cell_type": "code",
   "execution_count": 5,
   "outputs": [
    {
     "name": "stdout",
     "output_type": "stream",
     "text": [
      "Running over list of files\n",
      "Reading data from 3 files : \n",
      "\n",
      "Group vtx.x doesn't exist!\n"
     ]
    },
    {
     "ename": "SystemExit",
     "evalue": "2",
     "output_type": "error",
     "traceback": [
      "An exception has occurred, use %tb to see the full traceback.\n",
      "\u001B[0;31mSystemExit\u001B[0m\u001B[0;31m:\u001B[0m 2\n"
     ]
    },
    {
     "name": "stderr",
     "output_type": "stream",
     "text": [
      "/home/rafa/anaconda3/envs/cvn/lib/python3.8/site-packages/IPython/core/interactiveshell.py:3465: UserWarning: To exit: use 'exit', 'quit', or Ctrl-D.\n",
      "  warn(\"To exit: use 'exit', 'quit', or Ctrl-D.\", stacklevel=1)\n"
     ]
    }
   ],
   "source": [
    "\n",
    "\n",
    "# Generate a list of files to use for training\n",
    "electron = [os.path.join('data/ND-Single-Electron', f) for f in os.listdir(os.path.join('data/ND-Single-Electron'))]\n",
    "muon = [os.path.join('data/ND-Single-Muon', f) for f in os.listdir(os.path.join('data/ND-Single-Muon'))]\n",
    "piminus = [os.path.join('data/ND-Single-PiMinus', f) for f in os.listdir(os.path.join('data/ND-Single-PiMinus'))]\n",
    "files = electron + muon + piminus\n",
    "tables = loader(files)\n",
    "\n",
    "\n",
    "# Containment\n",
    "def kContain(tables):\n",
    "    df = tables['rec.mc.cosmic']\n",
    "    return (df['vtx.x'] > -180) & (df['vtx.x'] < 180) & (df['vtx.y'] > -180) &   (df['vtx.y'] < 180) & (df['vtx.z'] > 50) & (df['vtx.z'] < 1200) &  (df['stop.x'] > -180) & (df['stop.x'] < 180) & (df['stop.y'] > -180) & (df['stop.y'] < 180) &  (df['stop.z'] > 30) &  (df['stop.z'] < 700)\n",
    "\n",
    "\n",
    "kContain = Cut(kContain)\n",
    "\n",
    "\n",
    "def kMap(tables):\n",
    "    return tables['rec.training.cvnmaps']['cvnmap']\n",
    "\n",
    "\n",
    "def kCosmic(tables):\n",
    "    return tables['rec.mc.cosmic'][\n",
    "        ['E', 'azimuth', 'eff', 'enter.x', 'enter.y', 'enter.z', 'exit.x', 'exit.y', 'exit.z', 'nhitslc', 'nhittot',\n",
    "         'p.E', 'p.px', 'p.py', 'p.pz', 'pdg', 'penter.E', 'penter.px', 'penter.py', 'penter.pz', 'rec.mc.cosmic_idx',\n",
    "         'stop.x', 'stop.y', 'stop.z', 'time', 'visE', 'visEinslc', 'vtx.x', 'vtx.y', 'vtx.z', 'zenith']]\n",
    "\n",
    "\n",
    "kCosmic = Var(kCosmic)\n",
    "\n",
    "specMap = spectrum(tables, kContain, kMap)\n",
    "specCosmic = spectrum(tables, kContain, kCosmic)\n",
    "# GO GO GO\n",
    "tables.Go()\n",
    "\n",
    "dfCosmics = specCosmic.df().reset_index()\n",
    "pdg = dfCosmics['pdg']\n",
    "dfCosmics = dfCosmics.drop(['pdg'], axis=1)\n",
    "\n",
    "us = NearMiss()\n",
    "\n",
    "dfCosmics, pdg = us.fit_resample(dfCosmics, pdg)\n",
    "dfCosmics = pd.concat([dfCosmics, pdg], axis=1, join='inner')\n",
    "\n",
    "df = pd.merge(dfCosmics, specMap.df().reset_index(), on=['run', 'subrun', 'cycle', 'evt', 'subevt'], how='inner')\n",
    "\n",
    "#print((df.groupby(['pdg'])['pdg'].count()))\n",
    "\n"
   ],
   "metadata": {
    "collapsed": false,
    "pycharm": {
     "name": "#%%\n"
    }
   }
  },
  {
   "cell_type": "code",
   "execution_count": 3,
   "outputs": [],
   "source": [
    "def save(df,file):\n",
    "    hf = h5py.File(file, 'w')\n",
    "    hf.create_dataset('cvnmap', data=np.stack(df['cvnmap']), compression='gzip')\n",
    "    df = df.drop(['cvnmap'], axis=1)\n",
    "    for col in df.columns:\n",
    "        hf.create_dataset(col, data=df[col], compression='gzip')\n",
    "\n",
    "    hf.close()\n",
    "\n",
    "from sklearn.model_selection import train_test_split\n",
    "\n",
    "X_train, X_test, y_train, y_test = train_test_split(df.drop(['pdg'], axis=1), df['pdg'], test_size=0.10, random_state=42)\n",
    "df_train=pd.concat([X_train,y_train], axis=1, join='inner').reset_index()\n",
    "df_test=pd.concat([X_test,y_test], axis=1, join='inner').reset_index()\n",
    "save(df_train,'./wclustre/nova/users/rafaelma/dataset.h5')\n",
    "save(df_test,'./wclustre/nova/users/rafaelma/dataset_test.h5')"
   ],
   "metadata": {
    "collapsed": false,
    "pycharm": {
     "name": "#%%\n"
    }
   }
  }
 ],
 "metadata": {
  "kernelspec": {
   "display_name": "Python 3",
   "language": "python",
   "name": "python3"
  },
  "language_info": {
   "codemirror_mode": {
    "name": "ipython",
    "version": 2
   },
   "file_extension": ".py",
   "mimetype": "text/x-python",
   "name": "python",
   "nbconvert_exporter": "python",
   "pygments_lexer": "ipython2",
   "version": "2.7.6"
  }
 },
 "nbformat": 4,
 "nbformat_minor": 0
}