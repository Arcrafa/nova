{
 "cells": [
  {
   "cell_type": "code",
   "execution_count": 3,
   "metadata": {
    "collapsed": true,
    "pycharm": {
     "name": "#%%\n"
    }
   },
   "outputs": [],
   "source": [
    "import numpy as np\n",
    "from PIL import Image as im\n",
    "import matplotlib.pyplot as plt\n",
    "import h5py\n",
    "from pylab import rcParams\n",
    "import pandas as pd\n",
    "import os\n",
    "from tqdm import tqdm\n",
    "rcParams['figure.figsize'] = 20,9"
   ]
  },
  {
   "cell_type": "code",
   "execution_count": 4,
   "outputs": [],
   "source": [
    "f = h5py.File('data/ND-Single-Electron/neardet_genie_N1810j0211a_nonswap_genierw_fhc_v08_2000_r00013281_s05_c000_R19-11-18-prod5reco.z_v1_20200613_061839_sim_single_electron.h5caf.h5', 'r')\n",
    "\n",
    "cvnmaps=pd.DataFrame(f['rec.training.cvnmaps']['cvnmap'])\n",
    "cosmic=pd.DataFrame()\n",
    "for i in f['rec.mc.cosmic'].keys():\n",
    "    cosmic[i]=pd.DataFrame(f['rec.mc.cosmic'][i])\n",
    "\n",
    "cosmic['euclidean'] = (((cosmic['vtx.x'] - cosmic['stop.x']) ** 2) +\n",
    "                         (cosmic['vtx.y'] - cosmic['stop.y']) ** 2 +\n",
    "                         (cosmic['vtx.z'] - cosmic['stop.z']) ** 2) ** .5\n",
    "df=pd.concat([cosmic, cvnmaps],axis=1)"
   ],
   "metadata": {
    "collapsed": false,
    "pycharm": {
     "name": "#%%\n"
    }
   }
  },
  {
   "cell_type": "code",
   "execution_count": 5,
   "outputs": [],
   "source": [
    "df=df[(df['vtx.x'] > -180) & (df['vtx.x'] < 180) & (df['vtx.y'] > -180) & (df['vtx.y'] < 180) & (\n",
    "            df['vtx.z'] > 50) & (df['vtx.z'] < 1200) & (df['stop.x'] > -180) & (df['stop.x'] < 180) & (\n",
    "                   df['stop.y'] > -180) & (df['stop.y'] < 180) & (df['stop.z'] > 30) & (df['stop.z'] < 700)]"
   ],
   "metadata": {
    "collapsed": false,
    "pycharm": {
     "name": "#%%\n"
    }
   }
  },
  {
   "cell_type": "code",
   "execution_count": 8,
   "outputs": [
    {
     "data": {
      "text/plain": "             E   azimuth  cycle       eff     enter.x     enter.y     enter.z  \\\n0     0.617841  0.456482    0.0  1.000000   31.066917  139.217041  250.074768   \n3     0.986585 -2.106991    0.0  1.000000   97.396156  168.943924  504.751770   \n5     3.966161 -2.342307    0.0  0.997607  -50.094177  -47.891380  345.583862   \n7     2.378484 -1.185850    0.0  0.846840 -170.079941   95.626495  251.658371   \n12    4.073792 -2.775755    0.0  1.000000  -34.033226   58.977390  157.085922   \n...        ...       ...    ...       ...         ...         ...         ...   \n1488  0.321875  2.253673    0.0  0.994245  -71.650360   18.850803  395.417877   \n1489  4.384305  2.932541    0.0  1.000000   95.509384 -101.287888   67.277748   \n1490  4.848912 -0.888102    0.0  1.000000  -48.152496   52.823853  580.878723   \n1494  4.376113  0.520888    0.0  1.000000  -61.099911   90.248993  510.230682   \n1495  0.249785  0.710981    0.0  1.000000 -117.565826   46.417332  330.200073   \n\n         evt      exit.x      exit.y  ...  15990  15991  15992  15993  15994  \\\n0        1.0   84.294640  133.165161  ...      0      0      0      0      0   \n3        4.0   89.043945  109.589500  ...      0      0      0      0      0   \n5        7.0 -114.489754   27.091892  ...      0      0      0      0      0   \n7        9.0 -151.608414  172.802216  ...      0      0      0      0      0   \n12      14.0  -91.847466  130.217728  ...      0      0      0      0      0   \n...      ...         ...         ...  ...    ...    ...    ...    ...    ...   \n1488  1987.0  -80.486557   16.062962  ...      0      0      0      0      0   \n1489  1988.0   68.252884 -119.133812  ...      0      0      0      0      0   \n1490  1989.0  -20.436230   84.037292  ...      0      0      0      0      0   \n1494  1993.0   40.647831   11.250977  ...      0      0      0      0      0   \n1495  1994.0  -67.947556   51.250118  ...      0      0      0      0      0   \n\n      15995  15996  15997  15998  15999  \n0         0      0      0      0      0  \n3         0      0      0      0      0  \n5         0      0      0      0      0  \n7         0      0      0      0      0  \n12        0      0      0      0      0  \n...     ...    ...    ...    ...    ...  \n1488      0      0      0      0      0  \n1489      0      0      0      0      0  \n1490      0      0      0      0      0  \n1494      0      0      0      0      0  \n1495      0      0      0      0      0  \n\n[566 rows x 16038 columns]",
      "text/html": "<div>\n<style scoped>\n    .dataframe tbody tr th:only-of-type {\n        vertical-align: middle;\n    }\n\n    .dataframe tbody tr th {\n        vertical-align: top;\n    }\n\n    .dataframe thead th {\n        text-align: right;\n    }\n</style>\n<table border=\"1\" class=\"dataframe\">\n  <thead>\n    <tr style=\"text-align: right;\">\n      <th></th>\n      <th>E</th>\n      <th>azimuth</th>\n      <th>cycle</th>\n      <th>eff</th>\n      <th>enter.x</th>\n      <th>enter.y</th>\n      <th>enter.z</th>\n      <th>evt</th>\n      <th>exit.x</th>\n      <th>exit.y</th>\n      <th>...</th>\n      <th>15990</th>\n      <th>15991</th>\n      <th>15992</th>\n      <th>15993</th>\n      <th>15994</th>\n      <th>15995</th>\n      <th>15996</th>\n      <th>15997</th>\n      <th>15998</th>\n      <th>15999</th>\n    </tr>\n  </thead>\n  <tbody>\n    <tr>\n      <th>0</th>\n      <td>0.617841</td>\n      <td>0.456482</td>\n      <td>0.0</td>\n      <td>1.000000</td>\n      <td>31.066917</td>\n      <td>139.217041</td>\n      <td>250.074768</td>\n      <td>1.0</td>\n      <td>84.294640</td>\n      <td>133.165161</td>\n      <td>...</td>\n      <td>0</td>\n      <td>0</td>\n      <td>0</td>\n      <td>0</td>\n      <td>0</td>\n      <td>0</td>\n      <td>0</td>\n      <td>0</td>\n      <td>0</td>\n      <td>0</td>\n    </tr>\n    <tr>\n      <th>3</th>\n      <td>0.986585</td>\n      <td>-2.106991</td>\n      <td>0.0</td>\n      <td>1.000000</td>\n      <td>97.396156</td>\n      <td>168.943924</td>\n      <td>504.751770</td>\n      <td>4.0</td>\n      <td>89.043945</td>\n      <td>109.589500</td>\n      <td>...</td>\n      <td>0</td>\n      <td>0</td>\n      <td>0</td>\n      <td>0</td>\n      <td>0</td>\n      <td>0</td>\n      <td>0</td>\n      <td>0</td>\n      <td>0</td>\n      <td>0</td>\n    </tr>\n    <tr>\n      <th>5</th>\n      <td>3.966161</td>\n      <td>-2.342307</td>\n      <td>0.0</td>\n      <td>0.997607</td>\n      <td>-50.094177</td>\n      <td>-47.891380</td>\n      <td>345.583862</td>\n      <td>7.0</td>\n      <td>-114.489754</td>\n      <td>27.091892</td>\n      <td>...</td>\n      <td>0</td>\n      <td>0</td>\n      <td>0</td>\n      <td>0</td>\n      <td>0</td>\n      <td>0</td>\n      <td>0</td>\n      <td>0</td>\n      <td>0</td>\n      <td>0</td>\n    </tr>\n    <tr>\n      <th>7</th>\n      <td>2.378484</td>\n      <td>-1.185850</td>\n      <td>0.0</td>\n      <td>0.846840</td>\n      <td>-170.079941</td>\n      <td>95.626495</td>\n      <td>251.658371</td>\n      <td>9.0</td>\n      <td>-151.608414</td>\n      <td>172.802216</td>\n      <td>...</td>\n      <td>0</td>\n      <td>0</td>\n      <td>0</td>\n      <td>0</td>\n      <td>0</td>\n      <td>0</td>\n      <td>0</td>\n      <td>0</td>\n      <td>0</td>\n      <td>0</td>\n    </tr>\n    <tr>\n      <th>12</th>\n      <td>4.073792</td>\n      <td>-2.775755</td>\n      <td>0.0</td>\n      <td>1.000000</td>\n      <td>-34.033226</td>\n      <td>58.977390</td>\n      <td>157.085922</td>\n      <td>14.0</td>\n      <td>-91.847466</td>\n      <td>130.217728</td>\n      <td>...</td>\n      <td>0</td>\n      <td>0</td>\n      <td>0</td>\n      <td>0</td>\n      <td>0</td>\n      <td>0</td>\n      <td>0</td>\n      <td>0</td>\n      <td>0</td>\n      <td>0</td>\n    </tr>\n    <tr>\n      <th>...</th>\n      <td>...</td>\n      <td>...</td>\n      <td>...</td>\n      <td>...</td>\n      <td>...</td>\n      <td>...</td>\n      <td>...</td>\n      <td>...</td>\n      <td>...</td>\n      <td>...</td>\n      <td>...</td>\n      <td>...</td>\n      <td>...</td>\n      <td>...</td>\n      <td>...</td>\n      <td>...</td>\n      <td>...</td>\n      <td>...</td>\n      <td>...</td>\n      <td>...</td>\n      <td>...</td>\n    </tr>\n    <tr>\n      <th>1488</th>\n      <td>0.321875</td>\n      <td>2.253673</td>\n      <td>0.0</td>\n      <td>0.994245</td>\n      <td>-71.650360</td>\n      <td>18.850803</td>\n      <td>395.417877</td>\n      <td>1987.0</td>\n      <td>-80.486557</td>\n      <td>16.062962</td>\n      <td>...</td>\n      <td>0</td>\n      <td>0</td>\n      <td>0</td>\n      <td>0</td>\n      <td>0</td>\n      <td>0</td>\n      <td>0</td>\n      <td>0</td>\n      <td>0</td>\n      <td>0</td>\n    </tr>\n    <tr>\n      <th>1489</th>\n      <td>4.384305</td>\n      <td>2.932541</td>\n      <td>0.0</td>\n      <td>1.000000</td>\n      <td>95.509384</td>\n      <td>-101.287888</td>\n      <td>67.277748</td>\n      <td>1988.0</td>\n      <td>68.252884</td>\n      <td>-119.133812</td>\n      <td>...</td>\n      <td>0</td>\n      <td>0</td>\n      <td>0</td>\n      <td>0</td>\n      <td>0</td>\n      <td>0</td>\n      <td>0</td>\n      <td>0</td>\n      <td>0</td>\n      <td>0</td>\n    </tr>\n    <tr>\n      <th>1490</th>\n      <td>4.848912</td>\n      <td>-0.888102</td>\n      <td>0.0</td>\n      <td>1.000000</td>\n      <td>-48.152496</td>\n      <td>52.823853</td>\n      <td>580.878723</td>\n      <td>1989.0</td>\n      <td>-20.436230</td>\n      <td>84.037292</td>\n      <td>...</td>\n      <td>0</td>\n      <td>0</td>\n      <td>0</td>\n      <td>0</td>\n      <td>0</td>\n      <td>0</td>\n      <td>0</td>\n      <td>0</td>\n      <td>0</td>\n      <td>0</td>\n    </tr>\n    <tr>\n      <th>1494</th>\n      <td>4.376113</td>\n      <td>0.520888</td>\n      <td>0.0</td>\n      <td>1.000000</td>\n      <td>-61.099911</td>\n      <td>90.248993</td>\n      <td>510.230682</td>\n      <td>1993.0</td>\n      <td>40.647831</td>\n      <td>11.250977</td>\n      <td>...</td>\n      <td>0</td>\n      <td>0</td>\n      <td>0</td>\n      <td>0</td>\n      <td>0</td>\n      <td>0</td>\n      <td>0</td>\n      <td>0</td>\n      <td>0</td>\n      <td>0</td>\n    </tr>\n    <tr>\n      <th>1495</th>\n      <td>0.249785</td>\n      <td>0.710981</td>\n      <td>0.0</td>\n      <td>1.000000</td>\n      <td>-117.565826</td>\n      <td>46.417332</td>\n      <td>330.200073</td>\n      <td>1994.0</td>\n      <td>-67.947556</td>\n      <td>51.250118</td>\n      <td>...</td>\n      <td>0</td>\n      <td>0</td>\n      <td>0</td>\n      <td>0</td>\n      <td>0</td>\n      <td>0</td>\n      <td>0</td>\n      <td>0</td>\n      <td>0</td>\n      <td>0</td>\n    </tr>\n  </tbody>\n</table>\n<p>566 rows × 16038 columns</p>\n</div>"
     },
     "execution_count": 8,
     "metadata": {},
     "output_type": "execute_result"
    }
   ],
   "source": [
    "df"
   ],
   "metadata": {
    "collapsed": false,
    "pycharm": {
     "name": "#%%\n"
    }
   }
  },
  {
   "cell_type": "code",
   "execution_count": 7,
   "outputs": [
    {
     "name": "stderr",
     "output_type": "stream",
     "text": [
      "/tmp/ipykernel_40401/1410937552.py:9: MatplotlibDeprecationWarning: Auto-removal of grids by pcolor() and pcolormesh() is deprecated since 3.5 and will be removed two minor releases later; please call grid(False) first.\n",
      "  plt.colorbar()\n"
     ]
    },
    {
     "name": "stdout",
     "output_type": "stream",
     "text": [
      "\u001B[H\u001B[2J\u001B[H\u001B[2J\u001B[H\u001B[2J\u001B[H\u001B[2J\u001B[H\u001B[2J\u001B[H\u001B[2J\u001B[H\u001B[2J\u001B[H\u001B[2J\u001B[H\u001B[2J\u001B[H\u001B[2J\u001B[H\u001B[2J\u001B[H\u001B[2J\u001B[H\u001B[2J\u001B[H\u001B[2J\u001B[H\u001B[2J\u001B[H\u001B[2J\u001B[H\u001B[2J\u001B[H\u001B[2J\u001B[H\u001B[2J\u001B[H\u001B[2J\u001B[H\u001B[2J\u001B[H\u001B[2J\u001B[H\u001B[2J\u001B[H\u001B[2J\u001B[H\u001B[2J\u001B[H\u001B[2J\u001B[H\u001B[2J\u001B[H\u001B[2J\u001B[H\u001B[2J\u001B[H\u001B[2J\u001B[H\u001B[2J\u001B[H\u001B[2J\u001B[H\u001B[2J\u001B[H\u001B[2J\u001B[H\u001B[2J\u001B[H\u001B[2J\u001B[H\u001B[2J\u001B[H\u001B[2J\u001B[H\u001B[2J\u001B[H\u001B[2J\u001B[H\u001B[2J\u001B[H\u001B[2J\u001B[H\u001B[2J\u001B[H\u001B[2J\u001B[H\u001B[2J\u001B[H\u001B[2J\u001B[H\u001B[2J\u001B[H\u001B[2J\u001B[H\u001B[2J\u001B[H\u001B[2J\u001B[H\u001B[2J\u001B[H\u001B[2J\u001B[H\u001B[2J\u001B[H\u001B[2J\u001B[H\u001B[2J\u001B[H\u001B[2J\u001B[H\u001B[2J\u001B[H\u001B[2J\u001B[H\u001B[2J\u001B[H\u001B[2J\u001B[H\u001B[2J\u001B[H\u001B[2J\u001B[H\u001B[2J\u001B[H\u001B[2J\u001B[H\u001B[2J\u001B[H\u001B[2J\u001B[H\u001B[2J\u001B[H\u001B[2J\u001B[H\u001B[2J\u001B[H\u001B[2J\u001B[H\u001B[2J\u001B[H\u001B[2J\u001B[H\u001B[2J\u001B[H\u001B[2J\u001B[H\u001B[2J\u001B[H\u001B[2J\u001B[H\u001B[2J\u001B[H\u001B[2J\u001B[H\u001B[2J\u001B[H\u001B[2J\u001B[H\u001B[2J\u001B[H\u001B[2J\u001B[H\u001B[2J\u001B[H\u001B[2J\u001B[H\u001B[2J\u001B[H\u001B[2J\u001B[H\u001B[2J\u001B[H\u001B[2J\u001B[H\u001B[2J\u001B[H\u001B[2J\u001B[H\u001B[2J\u001B[H\u001B[2J\u001B[H\u001B[2J\u001B[H\u001B[2J\u001B[H\u001B[2J\u001B[H\u001B[2J\u001B[H\u001B[2J\u001B[H\u001B[2J\u001B[H\u001B[2J\u001B[H\u001B[2J\u001B[H\u001B[2J\u001B[H\u001B[2J\u001B[H\u001B[2J\u001B[H\u001B[2J\u001B[H\u001B[2J\u001B[H\u001B[2J\u001B[H\u001B[2J\u001B[H\u001B[2J\u001B[H\u001B[2J\u001B[H\u001B[2J\u001B[H\u001B[2J\u001B[H\u001B[2J\u001B[H\u001B[2J\u001B[H\u001B[2J\u001B[H\u001B[2J\u001B[H\u001B[2J\u001B[H\u001B[2J\u001B[H\u001B[2J\u001B[H\u001B[2J\u001B[H\u001B[2J\u001B[H\u001B[2J\u001B[H\u001B[2J\u001B[H\u001B[2J\u001B[H\u001B[2J\u001B[H\u001B[2J\u001B[H\u001B[2J\u001B[H\u001B[2J\u001B[H\u001B[2J\u001B[H\u001B[2J\u001B[H\u001B[2J\u001B[H\u001B[2J\u001B[H\u001B[2J\u001B[H\u001B[2J\u001B[H\u001B[2J\u001B[H\u001B[2J\u001B[H\u001B[2J\u001B[H\u001B[2J\u001B[H\u001B[2J\u001B[H\u001B[2J\u001B[H\u001B[2J\u001B[H\u001B[2J\u001B[H\u001B[2J\u001B[H\u001B[2J\u001B[H\u001B[2J\u001B[H\u001B[2J\u001B[H\u001B[2J\u001B[H\u001B[2J\u001B[H\u001B[2J\u001B[H\u001B[2J\u001B[H\u001B[2J\u001B[H\u001B[2J\u001B[H\u001B[2J\u001B[H\u001B[2J\u001B[H\u001B[2J\u001B[H\u001B[2J\u001B[H\u001B[2J\u001B[H\u001B[2J\u001B[H\u001B[2J\u001B[H\u001B[2J\u001B[H\u001B[2J\u001B[H\u001B[2J\u001B[H\u001B[2J\u001B[H\u001B[2J\u001B[H\u001B[2J\u001B[H\u001B[2J\u001B[H\u001B[2J\u001B[H\u001B[2J\u001B[H\u001B[2J\u001B[H\u001B[2J\u001B[H\u001B[2J\u001B[H\u001B[2J\u001B[H\u001B[2J\u001B[H\u001B[2J\u001B[H\u001B[2J\u001B[H\u001B[2J\u001B[H\u001B[2J\u001B[H\u001B[2J\u001B[H\u001B[2J\u001B[H\u001B[2J\u001B[H\u001B[2J\u001B[H\u001B[2J\u001B[H\u001B[2J\u001B[H\u001B[2J\u001B[H\u001B[2J\u001B[H\u001B[2J\u001B[H\u001B[2J\u001B[H\u001B[2J\u001B[H\u001B[2J\u001B[H\u001B[2J\u001B[H\u001B[2J\u001B[H\u001B[2J\u001B[H\u001B[2J\u001B[H\u001B[2J\u001B[H\u001B[2J\u001B[H\u001B[2J\u001B[H\u001B[2J\u001B[H\u001B[2J\u001B[H\u001B[2J\u001B[H\u001B[2J\u001B[H\u001B[2J\u001B[H\u001B[2J\u001B[H\u001B[2J\u001B[H\u001B[2J\u001B[H\u001B[2J\u001B[H\u001B[2J\u001B[H\u001B[2J\u001B[H\u001B[2J\u001B[H\u001B[2J\u001B[H\u001B[2J\u001B[H\u001B[2J\u001B[H\u001B[2J\u001B[H\u001B[2J\u001B[H\u001B[2J\u001B[H\u001B[2J\u001B[H\u001B[2J\u001B[H\u001B[2J\u001B[H\u001B[2J\u001B[H\u001B[2J\u001B[H\u001B[2J\u001B[H\u001B[2J\u001B[H\u001B[2J\u001B[H\u001B[2J\u001B[H\u001B[2J\u001B[H\u001B[2J\u001B[H\u001B[2J\u001B[H\u001B[2J\u001B[H\u001B[2J\u001B[H\u001B[2J\u001B[H\u001B[2J\u001B[H\u001B[2J\u001B[H\u001B[2J\u001B[H\u001B[2J\u001B[H\u001B[2J\u001B[H\u001B[2J\u001B[H\u001B[2J\u001B[H\u001B[2J\u001B[H\u001B[2J\u001B[H\u001B[2J\u001B[H\u001B[2J\u001B[H\u001B[2J\u001B[H\u001B[2J\u001B[H\u001B[2J\u001B[H\u001B[2J\u001B[H\u001B[2J\u001B[H\u001B[2J\u001B[H\u001B[2J\u001B[H\u001B[2J\u001B[H\u001B[2J\u001B[H\u001B[2J\u001B[H\u001B[2J\u001B[H\u001B[2J\u001B[H\u001B[2J\u001B[H\u001B[2J\u001B[H\u001B[2J\u001B[H\u001B[2J\u001B[H\u001B[2J\u001B[H\u001B[2J\u001B[H\u001B[2J\u001B[H\u001B[2J\u001B[H\u001B[2J\u001B[H\u001B[2J\u001B[H\u001B[2J\u001B[H\u001B[2J\u001B[H\u001B[2J\u001B[H\u001B[2J\u001B[H\u001B[2J\u001B[H\u001B[2J\u001B[H\u001B[2J\u001B[H\u001B[2J\u001B[H\u001B[2J\u001B[H\u001B[2J\u001B[H\u001B[2J\u001B[H\u001B[2J\u001B[H\u001B[2J\u001B[H\u001B[2J\u001B[H\u001B[2J\u001B[H\u001B[2J\u001B[H\u001B[2J\u001B[H\u001B[2J\u001B[H\u001B[2J\u001B[H\u001B[2J\u001B[H\u001B[2J\u001B[H\u001B[2J\u001B[H\u001B[2J\u001B[H\u001B[2J\u001B[H\u001B[2J\u001B[H\u001B[2J\u001B[H\u001B[2J\u001B[H\u001B[2J\u001B[H\u001B[2J\u001B[H\u001B[2J\u001B[H\u001B[2J\u001B[H\u001B[2J\u001B[H\u001B[2J\u001B[H\u001B[2J\u001B[H\u001B[2J\u001B[H\u001B[2J\u001B[H\u001B[2J\u001B[H\u001B[2J\u001B[H\u001B[2J\u001B[H\u001B[2J\u001B[H\u001B[2J\u001B[H\u001B[2J\u001B[H\u001B[2J\u001B[H\u001B[2J\u001B[H\u001B[2J\u001B[H\u001B[2J\u001B[H\u001B[2J\u001B[H\u001B[2J\u001B[H\u001B[2J\u001B[H\u001B[2J\u001B[H\u001B[2J\u001B[H\u001B[2J\u001B[H\u001B[2J\u001B[H\u001B[2J\u001B[H\u001B[2J\u001B[H\u001B[2J\u001B[H\u001B[2J\u001B[H\u001B[2J\u001B[H\u001B[2J\u001B[H\u001B[2J\u001B[H\u001B[2J\u001B[H\u001B[2J\u001B[H\u001B[2J\u001B[H\u001B[2J\u001B[H\u001B[2J\u001B[H\u001B[2J\u001B[H\u001B[2J\u001B[H\u001B[2J\u001B[H\u001B[2J\u001B[H\u001B[2J\u001B[H\u001B[2J\u001B[H\u001B[2J\u001B[H\u001B[2J\u001B[H\u001B[2J\u001B[H\u001B[2J\u001B[H\u001B[2J\u001B[H\u001B[2J\u001B[H\u001B[2J\u001B[H\u001B[2J\u001B[H\u001B[2J\u001B[H\u001B[2J\u001B[H\u001B[2J\u001B[H\u001B[2J\u001B[H\u001B[2J\u001B[H\u001B[2J\u001B[H\u001B[2J\u001B[H\u001B[2J\u001B[H\u001B[2J\u001B[H\u001B[2J\u001B[H\u001B[2J\u001B[H\u001B[2J\u001B[H\u001B[2J\u001B[H\u001B[2J\u001B[H\u001B[2J\u001B[H\u001B[2J\u001B[H\u001B[2J\u001B[H\u001B[2J\u001B[H\u001B[2J\u001B[H\u001B[2J\u001B[H\u001B[2J\u001B[H\u001B[2J\u001B[H\u001B[2J\u001B[H\u001B[2J\u001B[H\u001B[2J\u001B[H\u001B[2J\u001B[H\u001B[2J\u001B[H\u001B[2J\u001B[H\u001B[2J\u001B[H\u001B[2J\u001B[H\u001B[2J\u001B[H\u001B[2J\u001B[H\u001B[2J\u001B[H\u001B[2J\u001B[H\u001B[2J\u001B[H\u001B[2J\u001B[H\u001B[2J\u001B[H\u001B[2J\u001B[H\u001B[2J\u001B[H\u001B[2J\u001B[H\u001B[2J\u001B[H\u001B[2J\u001B[H\u001B[2J\u001B[H\u001B[2J\u001B[H\u001B[2J\u001B[H\u001B[2J\u001B[H\u001B[2J\u001B[H\u001B[2J\u001B[H\u001B[2J\u001B[H\u001B[2J\u001B[H\u001B[2J\u001B[H\u001B[2J\u001B[H\u001B[2J\u001B[H\u001B[2J\u001B[H\u001B[2J\u001B[H\u001B[2J\u001B[H\u001B[2J\u001B[H\u001B[2J\u001B[H\u001B[2J\u001B[H\u001B[2J\u001B[H\u001B[2J\u001B[H\u001B[2J\u001B[H\u001B[2J\u001B[H\u001B[2J\u001B[H\u001B[2J\u001B[H\u001B[2J\u001B[H\u001B[2J\u001B[H\u001B[2J\u001B[H\u001B[2J\u001B[H\u001B[2J\u001B[H\u001B[2J\u001B[H\u001B[2J\u001B[H\u001B[2J\u001B[H\u001B[2J\u001B[H\u001B[2J\u001B[H\u001B[2J\u001B[H\u001B[2J\u001B[H\u001B[2J\u001B[H\u001B[2J\u001B[H\u001B[2J\u001B[H\u001B[2J\u001B[H\u001B[2J\u001B[H\u001B[2J\u001B[H\u001B[2J\u001B[H\u001B[2J\u001B[H\u001B[2J\u001B[H\u001B[2J\u001B[H\u001B[2J\u001B[H\u001B[2J\u001B[H\u001B[2J\u001B[H\u001B[2J\u001B[H\u001B[2J\u001B[H\u001B[2J\u001B[H\u001B[2J\u001B[H\u001B[2J\u001B[H\u001B[2J\u001B[H\u001B[2J\u001B[H\u001B[2J\u001B[H\u001B[2J\u001B[H\u001B[2J\u001B[H\u001B[2J\u001B[H\u001B[2J\u001B[H\u001B[2J\u001B[H\u001B[2J\u001B[H\u001B[2J\u001B[H\u001B[2J\u001B[H\u001B[2J\u001B[H\u001B[2J\u001B[H\u001B[2J\u001B[H\u001B[2J\u001B[H\u001B[2J\u001B[H\u001B[2J\u001B[H\u001B[2J\u001B[H\u001B[2J\u001B[H\u001B[2J\u001B[H\u001B[2J\u001B[H\u001B[2J\u001B[H\u001B[2J\u001B[H\u001B[2J\u001B[H\u001B[2J\u001B[H\u001B[2J\u001B[H\u001B[2J\u001B[H\u001B[2J\u001B[H\u001B[2J\u001B[H\u001B[2J\u001B[H\u001B[2J\u001B[H\u001B[2J\u001B[H\u001B[2J\u001B[H\u001B[2J\u001B[H\u001B[2J\u001B[H\u001B[2J\u001B[H\u001B[2J\u001B[H\u001B[2J\u001B[H\u001B[2J\u001B[H\u001B[2J\u001B[H\u001B[2J\u001B[H\u001B[2J\u001B[H\u001B[2J\u001B[H\u001B[2J\u001B[H\u001B[2J\u001B[H\u001B[2J\u001B[H\u001B[2J\u001B[H\u001B[2J\u001B[H\u001B[2J\u001B[H\u001B[2J\u001B[H\u001B[2J\u001B[H\u001B[2J\u001B[H\u001B[2J\u001B[H\u001B[2J\u001B[H\u001B[2J\u001B[H\u001B[2J\u001B[H\u001B[2J\u001B[H\u001B[2J\u001B[H\u001B[2J\u001B[H\u001B[2J\u001B[H\u001B[2J\u001B[H\u001B[2J\u001B[H\u001B[2J\u001B[H\u001B[2J\u001B[H\u001B[2J\u001B[H\u001B[2J\u001B[H\u001B[2J\u001B[H\u001B[2J\u001B[H\u001B[2J\u001B[H\u001B[2J\u001B[H\u001B[2J\u001B[H\u001B[2J\u001B[H\u001B[2J\u001B[H\u001B[2J\u001B[H\u001B[2J\u001B[H\u001B[2J\u001B[H\u001B[2J\u001B[H\u001B[2J\u001B[H\u001B[2J\u001B[H\u001B[2J\u001B[H\u001B[2J\u001B[H\u001B[2J\u001B[H\u001B[2J\u001B[H\u001B[2J\u001B[H\u001B[2J\u001B[H\u001B[2J\u001B[H\u001B[2J\u001B[H\u001B[2J\u001B[H\u001B[2J\u001B[H\u001B[2J\u001B[H\u001B[2J\u001B[H\u001B[2J\u001B[H\u001B[2J\u001B[H\u001B[2J\u001B[H\u001B[2J\u001B[H\u001B[2J\u001B[H\u001B[2J\u001B[H\u001B[2J\u001B[H\u001B[2J\u001B[H\u001B[2J\u001B[H\u001B[2J\u001B[H\u001B[2J\u001B[H\u001B[2J\u001B[H\u001B[2J\u001B[H\u001B[2J\u001B[H\u001B[2J\u001B[H\u001B[2J\u001B[H\u001B[2J\u001B[H\u001B[2J\u001B[H\u001B[2J\u001B[H\u001B[2J\u001B[H\u001B[2J\u001B[H\u001B[2J\u001B[H\u001B[2J\u001B[H\u001B[2J\u001B[H\u001B[2J\u001B[H\u001B[2J\u001B[H\u001B[2J\u001B[H\u001B[2J\u001B[H\u001B[2J\u001B[H\u001B[2J\u001B[H\u001B[2J\u001B[H\u001B[2J\u001B[H\u001B[2J\u001B[H\u001B[2J\u001B[H\u001B[2J\u001B[H\u001B[2J\u001B[H\u001B[2J\u001B[H\u001B[2J\u001B[H\u001B[2J\u001B[H\u001B[2J"
     ]
    },
    {
     "data": {
      "text/plain": "<Figure size 1440x648 with 0 Axes>"
     },
     "metadata": {},
     "output_type": "display_data"
    }
   ],
   "source": [
    "for i in range(len(df)):\n",
    "    pm=df.iloc[i,38:16038].values\n",
    "    pm=pm.reshape((2,100,80))\n",
    "    pm=np.concatenate((pm[0].reshape((100,80)),pm[1].reshape((100,80))),axis = 1)\n",
    "    #pm = np.stack((pm,)*3, axis=-1)\n",
    "    #max=np.max(pm)\n",
    "    #pm= pm /max\n",
    "    plt.imshow(pm.astype(float))\n",
    "    plt.colorbar()\n",
    "    plt.savefig('./plots/electrones/'\n",
    "         +str(i)+'-'\n",
    "         +str(df.iloc[i]['nhitslc'])+'-'\n",
    "         +str(df.iloc[i]['p.E'])+'-'\n",
    "         +str(df.iloc[i]['euclidean'])+'.jpg')\n",
    "    plt.clf()\n",
    "    os.system (\"clear\")"
   ],
   "metadata": {
    "collapsed": false,
    "pycharm": {
     "name": "#%%\n"
    }
   }
  }
 ],
 "metadata": {
  "kernelspec": {
   "display_name": "Python 3",
   "language": "python",
   "name": "python3"
  },
  "language_info": {
   "codemirror_mode": {
    "name": "ipython",
    "version": 2
   },
   "file_extension": ".py",
   "mimetype": "text/x-python",
   "name": "python",
   "nbconvert_exporter": "python",
   "pygments_lexer": "ipython2",
   "version": "2.7.6"
  }
 },
 "nbformat": 4,
 "nbformat_minor": 0
}