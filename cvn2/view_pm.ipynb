{
 "cells": [
  {
   "cell_type": "code",
   "execution_count": 23,
   "outputs": [],
   "source": [
    "import numpy as np\n",
    "from PIL import Image as im\n",
    "import matplotlib.pyplot as plt\n",
    "import h5py\n",
    "from pylab import rcParams\n",
    "import pandas as pd\n",
    "import os\n",
    "from tqdm import tqdm\n",
    "rcParams['figure.figsize'] = 20,9"
   ],
   "metadata": {
    "collapsed": false,
    "pycharm": {
     "name": "#%%\n"
    }
   }
  },
  {
   "cell_type": "code",
   "execution_count": 24,
   "outputs": [],
   "source": [
    "clases=['muon','electron','piminus']"
   ],
   "metadata": {
    "collapsed": false,
    "pycharm": {
     "name": "#%%\n"
    }
   }
  },
  {
   "cell_type": "code",
   "execution_count": 31,
   "outputs": [],
   "source": [
    "f = h5py.File('logs/predictions_default.h5', 'r')\n",
    "pred = {'run':np.array(f['runs']),\n",
    "        'subrun':np.array(f['subruns']),\n",
    "        'evt':np.array(f['evts']),\n",
    "        'label':np.array(f['labels']),\n",
    "        'cycle':np.array(f['cycles']),}\n",
    "probs = pd.DataFrame(np.array(f['probs']), columns=['pdm', 'pde', 'pdp'])\n",
    "probs['y_preds']= np.argmax(np.array(f['probs']), axis=1)\n",
    "probs['predict']=probs['y_preds'].apply(lambda x: clases[x])\n",
    "\n",
    "dfpred = pd.DataFrame(pred)\n",
    "dfpred = pd.concat([dfpred, probs], axis=1, join='inner').reset_index()\n"
   ],
   "metadata": {
    "collapsed": false,
    "pycharm": {
     "name": "#%%\n"
    }
   }
  },
  {
   "cell_type": "code",
   "execution_count": 32,
   "outputs": [
    {
     "data": {
      "text/plain": "       index    run  subrun   evt  label  cycle           pdm       pde  \\\n0          0  12035       0  1222      1      0  6.025143e-05  0.995903   \n1          1  12037      22   563      1      0  4.343346e-19  1.000000   \n2          2  13183      15  1821      1      0  1.450350e-03  0.982047   \n3          3  11572      23  1170      0      0  9.927921e-01  0.000015   \n4          4  10855       7   824      1      0  2.274239e-01  0.386103   \n...      ...    ...     ...   ...    ...    ...           ...       ...   \n14940  14940  10641      11  1111      1      0  3.206415e-09  0.999949   \n14941  14941  13281      14    57      0      0  9.870310e-01  0.000120   \n14942  14942  11977      12   963      1      0  4.142592e-03  0.496207   \n14943  14943  13263       0  1146      1      0  9.752432e-01  0.001053   \n14944  14944  11398      14   901      0      0  9.964550e-01  0.000001   \n\n                pdp  y_preds   predict  \n0      4.036321e-03        1  electron  \n1      2.051067e-09        1  electron  \n2      1.650249e-02        1  electron  \n3      7.192424e-03        0      muon  \n4      3.864733e-01        2   piminus  \n...             ...      ...       ...  \n14940  5.064414e-05        1  electron  \n14941  1.284930e-02        0      muon  \n14942  4.996505e-01        2   piminus  \n14943  2.370390e-02        0      muon  \n14944  3.543760e-03        0      muon  \n\n[14945 rows x 11 columns]",
      "text/html": "<div>\n<style scoped>\n    .dataframe tbody tr th:only-of-type {\n        vertical-align: middle;\n    }\n\n    .dataframe tbody tr th {\n        vertical-align: top;\n    }\n\n    .dataframe thead th {\n        text-align: right;\n    }\n</style>\n<table border=\"1\" class=\"dataframe\">\n  <thead>\n    <tr style=\"text-align: right;\">\n      <th></th>\n      <th>index</th>\n      <th>run</th>\n      <th>subrun</th>\n      <th>evt</th>\n      <th>label</th>\n      <th>cycle</th>\n      <th>pdm</th>\n      <th>pde</th>\n      <th>pdp</th>\n      <th>y_preds</th>\n      <th>predict</th>\n    </tr>\n  </thead>\n  <tbody>\n    <tr>\n      <th>0</th>\n      <td>0</td>\n      <td>12035</td>\n      <td>0</td>\n      <td>1222</td>\n      <td>1</td>\n      <td>0</td>\n      <td>6.025143e-05</td>\n      <td>0.995903</td>\n      <td>4.036321e-03</td>\n      <td>1</td>\n      <td>electron</td>\n    </tr>\n    <tr>\n      <th>1</th>\n      <td>1</td>\n      <td>12037</td>\n      <td>22</td>\n      <td>563</td>\n      <td>1</td>\n      <td>0</td>\n      <td>4.343346e-19</td>\n      <td>1.000000</td>\n      <td>2.051067e-09</td>\n      <td>1</td>\n      <td>electron</td>\n    </tr>\n    <tr>\n      <th>2</th>\n      <td>2</td>\n      <td>13183</td>\n      <td>15</td>\n      <td>1821</td>\n      <td>1</td>\n      <td>0</td>\n      <td>1.450350e-03</td>\n      <td>0.982047</td>\n      <td>1.650249e-02</td>\n      <td>1</td>\n      <td>electron</td>\n    </tr>\n    <tr>\n      <th>3</th>\n      <td>3</td>\n      <td>11572</td>\n      <td>23</td>\n      <td>1170</td>\n      <td>0</td>\n      <td>0</td>\n      <td>9.927921e-01</td>\n      <td>0.000015</td>\n      <td>7.192424e-03</td>\n      <td>0</td>\n      <td>muon</td>\n    </tr>\n    <tr>\n      <th>4</th>\n      <td>4</td>\n      <td>10855</td>\n      <td>7</td>\n      <td>824</td>\n      <td>1</td>\n      <td>0</td>\n      <td>2.274239e-01</td>\n      <td>0.386103</td>\n      <td>3.864733e-01</td>\n      <td>2</td>\n      <td>piminus</td>\n    </tr>\n    <tr>\n      <th>...</th>\n      <td>...</td>\n      <td>...</td>\n      <td>...</td>\n      <td>...</td>\n      <td>...</td>\n      <td>...</td>\n      <td>...</td>\n      <td>...</td>\n      <td>...</td>\n      <td>...</td>\n      <td>...</td>\n    </tr>\n    <tr>\n      <th>14940</th>\n      <td>14940</td>\n      <td>10641</td>\n      <td>11</td>\n      <td>1111</td>\n      <td>1</td>\n      <td>0</td>\n      <td>3.206415e-09</td>\n      <td>0.999949</td>\n      <td>5.064414e-05</td>\n      <td>1</td>\n      <td>electron</td>\n    </tr>\n    <tr>\n      <th>14941</th>\n      <td>14941</td>\n      <td>13281</td>\n      <td>14</td>\n      <td>57</td>\n      <td>0</td>\n      <td>0</td>\n      <td>9.870310e-01</td>\n      <td>0.000120</td>\n      <td>1.284930e-02</td>\n      <td>0</td>\n      <td>muon</td>\n    </tr>\n    <tr>\n      <th>14942</th>\n      <td>14942</td>\n      <td>11977</td>\n      <td>12</td>\n      <td>963</td>\n      <td>1</td>\n      <td>0</td>\n      <td>4.142592e-03</td>\n      <td>0.496207</td>\n      <td>4.996505e-01</td>\n      <td>2</td>\n      <td>piminus</td>\n    </tr>\n    <tr>\n      <th>14943</th>\n      <td>14943</td>\n      <td>13263</td>\n      <td>0</td>\n      <td>1146</td>\n      <td>1</td>\n      <td>0</td>\n      <td>9.752432e-01</td>\n      <td>0.001053</td>\n      <td>2.370390e-02</td>\n      <td>0</td>\n      <td>muon</td>\n    </tr>\n    <tr>\n      <th>14944</th>\n      <td>14944</td>\n      <td>11398</td>\n      <td>14</td>\n      <td>901</td>\n      <td>0</td>\n      <td>0</td>\n      <td>9.964550e-01</td>\n      <td>0.000001</td>\n      <td>3.543760e-03</td>\n      <td>0</td>\n      <td>muon</td>\n    </tr>\n  </tbody>\n</table>\n<p>14945 rows × 11 columns</p>\n</div>"
     },
     "execution_count": 32,
     "metadata": {},
     "output_type": "execute_result"
    }
   ],
   "source": [
    "dfpred"
   ],
   "metadata": {
    "collapsed": false,
    "pycharm": {
     "name": "#%%\n"
    }
   }
  },
  {
   "cell_type": "code",
   "execution_count": 26,
   "outputs": [
    {
     "name": "stderr",
     "output_type": "stream",
     "text": [
      "100%|██████████| 2989/2989 [06:20<00:00,  7.86it/s]\n"
     ]
    }
   ],
   "source": [
    "files = [os.path.join('data/dataset/',f) for f in os.listdir('data/dataset/')]\n",
    "dfdata=pd.DataFrame()\n",
    "for f in tqdm(files):\n",
    "    clases=['muon','electron','piminus']\n",
    "    h5 = h5py.File(f, 'r')\n",
    "\n",
    "    keys = ['E', 'azimuth', 'cycle', 'eff', 'enter.x', 'enter.y', 'enter.z', 'evt', 'exit.x', 'exit.y', 'exit.z',\n",
    "            'nhitslc', 'nhittot', 'p.E', 'p.px', 'p.py', 'p.pz', 'pdg', 'penter.E', 'penter.px', 'penter.py', 'penter.pz',\n",
    "            'rec.mc.cosmic_idx', 'run', 'stop.x', 'stop.y', 'stop.z', 'subevt', 'subrun', 'time', 'visE', 'visEinslc',\n",
    "            'vtx.x', 'vtx.y', 'vtx.z', 'zenith']\n",
    "    data = {}\n",
    "    for k in keys:\n",
    "        data[k] = np.array(h5[k])\n",
    "\n",
    "    data = pd.DataFrame(data)\n",
    "\n",
    "    dfpm=pd.DataFrame(h5['cvnmap'])\n",
    "\n",
    "    data['euclidean'] = (((data['vtx.x'] - data['stop.x']) ** 2) +\n",
    "                         (data['vtx.y'] - data['stop.y']) ** 2 +\n",
    "                         (data['vtx.z'] - data['stop.z']) ** 2) ** .5\n",
    "\n",
    "\n",
    "    def set_values(row, value):\n",
    "        return value[row]\n",
    "\n",
    "\n",
    "    map_dictionary = {11: \"electron\", 13: \"muon\", -211: \"piminus\"}\n",
    "\n",
    "    data['label_true'] = data['pdg'].apply(set_values, args=(map_dictionary,))\n",
    "    h5.close()\n",
    "    data=pd.concat([data,dfpm], axis=1, join='inner')\n",
    "    del dfpm\n",
    "    data = pd.merge(dfpred, data,left_on=  ['evt','run','subrun','cycle','predict'],\n",
    "                   right_on= ['evt','run','subrun','cycle','label_true'], how='inner')\n",
    "    dfdata=pd.concat([dfdata, data],\n",
    "                  ignore_index = True)\n",
    "dfpred = dfdata"
   ],
   "metadata": {
    "collapsed": false,
    "pycharm": {
     "name": "#%%\n"
    }
   }
  },
  {
   "cell_type": "code",
   "execution_count": 30,
   "outputs": [
    {
     "data": {
      "text/plain": "       index    run  subrun   evt  label  cycle           pdm           pde  \\\n0       7964  11309      19  1530      1      0  6.706400e-09  9.999297e-01   \n1      10946  11309      19   913      1      0  5.564277e-09  9.999353e-01   \n2       2246  12016      17   194      1      0  1.036239e-03  8.476382e-01   \n3      10753  12016      17  1513      1      0  1.562876e-03  9.370614e-01   \n4      12709  12016      17  1346      1      0  2.529246e-15  9.999999e-01   \n...      ...    ...     ...   ...    ...    ...           ...           ...   \n13913   7527  11446       0  1137      0      0  9.869469e-01  1.223495e-04   \n13914  11517  11446       0  1626      0      0  9.807932e-01  4.566931e-04   \n13915  13332  11446       0    30      0      0  9.976075e-01  3.230286e-07   \n13916  14081  11446       0  1531      0      0  9.612151e-01  4.129274e-03   \n13917  14120  11446       0  1090      0      0  9.449982e-01  1.041488e-02   \n\n                pdp  y_preds  ... 15990  15991  15992  15993  15994  15995  \\\n0      7.033531e-05        1  ...     0      0      0      0      0      0   \n1      6.472675e-05        1  ...     0      0      0      0      0      0   \n2      1.513255e-01        1  ...     0      0      0      0      0      0   \n3      6.137579e-02        1  ...     0      0      0      0      0      0   \n4      9.726185e-08        1  ...     0      0      0      0      0      0   \n...             ...      ...  ...   ...    ...    ...    ...    ...    ...   \n13913  1.293068e-02        0  ...     0      0      0      0      0      0   \n13914  1.875007e-02        0  ...     0      0      0      0      0      0   \n13915  2.392147e-03        0  ...     0      0      0      0      0      0   \n13916  3.465550e-02        0  ...     0      0      0      0      0      0   \n13917  4.458696e-02        0  ...     0      0      0      0      0      0   \n\n       15996  15997  15998  15999  \n0          0      0      0      0  \n1          0      0      0      0  \n2          0      0      0      0  \n3          0      0      0      0  \n4          0      0      0      0  \n...      ...    ...    ...    ...  \n13913      0      0      0      0  \n13914      0      0      0      0  \n13915      0      0      0      0  \n13916      0      0      0      0  \n13917      0      0      0      0  \n\n[13918 rows x 16045 columns]",
      "text/html": "<div>\n<style scoped>\n    .dataframe tbody tr th:only-of-type {\n        vertical-align: middle;\n    }\n\n    .dataframe tbody tr th {\n        vertical-align: top;\n    }\n\n    .dataframe thead th {\n        text-align: right;\n    }\n</style>\n<table border=\"1\" class=\"dataframe\">\n  <thead>\n    <tr style=\"text-align: right;\">\n      <th></th>\n      <th>index</th>\n      <th>run</th>\n      <th>subrun</th>\n      <th>evt</th>\n      <th>label</th>\n      <th>cycle</th>\n      <th>pdm</th>\n      <th>pde</th>\n      <th>pdp</th>\n      <th>y_preds</th>\n      <th>...</th>\n      <th>15990</th>\n      <th>15991</th>\n      <th>15992</th>\n      <th>15993</th>\n      <th>15994</th>\n      <th>15995</th>\n      <th>15996</th>\n      <th>15997</th>\n      <th>15998</th>\n      <th>15999</th>\n    </tr>\n  </thead>\n  <tbody>\n    <tr>\n      <th>0</th>\n      <td>7964</td>\n      <td>11309</td>\n      <td>19</td>\n      <td>1530</td>\n      <td>1</td>\n      <td>0</td>\n      <td>6.706400e-09</td>\n      <td>9.999297e-01</td>\n      <td>7.033531e-05</td>\n      <td>1</td>\n      <td>...</td>\n      <td>0</td>\n      <td>0</td>\n      <td>0</td>\n      <td>0</td>\n      <td>0</td>\n      <td>0</td>\n      <td>0</td>\n      <td>0</td>\n      <td>0</td>\n      <td>0</td>\n    </tr>\n    <tr>\n      <th>1</th>\n      <td>10946</td>\n      <td>11309</td>\n      <td>19</td>\n      <td>913</td>\n      <td>1</td>\n      <td>0</td>\n      <td>5.564277e-09</td>\n      <td>9.999353e-01</td>\n      <td>6.472675e-05</td>\n      <td>1</td>\n      <td>...</td>\n      <td>0</td>\n      <td>0</td>\n      <td>0</td>\n      <td>0</td>\n      <td>0</td>\n      <td>0</td>\n      <td>0</td>\n      <td>0</td>\n      <td>0</td>\n      <td>0</td>\n    </tr>\n    <tr>\n      <th>2</th>\n      <td>2246</td>\n      <td>12016</td>\n      <td>17</td>\n      <td>194</td>\n      <td>1</td>\n      <td>0</td>\n      <td>1.036239e-03</td>\n      <td>8.476382e-01</td>\n      <td>1.513255e-01</td>\n      <td>1</td>\n      <td>...</td>\n      <td>0</td>\n      <td>0</td>\n      <td>0</td>\n      <td>0</td>\n      <td>0</td>\n      <td>0</td>\n      <td>0</td>\n      <td>0</td>\n      <td>0</td>\n      <td>0</td>\n    </tr>\n    <tr>\n      <th>3</th>\n      <td>10753</td>\n      <td>12016</td>\n      <td>17</td>\n      <td>1513</td>\n      <td>1</td>\n      <td>0</td>\n      <td>1.562876e-03</td>\n      <td>9.370614e-01</td>\n      <td>6.137579e-02</td>\n      <td>1</td>\n      <td>...</td>\n      <td>0</td>\n      <td>0</td>\n      <td>0</td>\n      <td>0</td>\n      <td>0</td>\n      <td>0</td>\n      <td>0</td>\n      <td>0</td>\n      <td>0</td>\n      <td>0</td>\n    </tr>\n    <tr>\n      <th>4</th>\n      <td>12709</td>\n      <td>12016</td>\n      <td>17</td>\n      <td>1346</td>\n      <td>1</td>\n      <td>0</td>\n      <td>2.529246e-15</td>\n      <td>9.999999e-01</td>\n      <td>9.726185e-08</td>\n      <td>1</td>\n      <td>...</td>\n      <td>0</td>\n      <td>0</td>\n      <td>0</td>\n      <td>0</td>\n      <td>0</td>\n      <td>0</td>\n      <td>0</td>\n      <td>0</td>\n      <td>0</td>\n      <td>0</td>\n    </tr>\n    <tr>\n      <th>...</th>\n      <td>...</td>\n      <td>...</td>\n      <td>...</td>\n      <td>...</td>\n      <td>...</td>\n      <td>...</td>\n      <td>...</td>\n      <td>...</td>\n      <td>...</td>\n      <td>...</td>\n      <td>...</td>\n      <td>...</td>\n      <td>...</td>\n      <td>...</td>\n      <td>...</td>\n      <td>...</td>\n      <td>...</td>\n      <td>...</td>\n      <td>...</td>\n      <td>...</td>\n      <td>...</td>\n    </tr>\n    <tr>\n      <th>13913</th>\n      <td>7527</td>\n      <td>11446</td>\n      <td>0</td>\n      <td>1137</td>\n      <td>0</td>\n      <td>0</td>\n      <td>9.869469e-01</td>\n      <td>1.223495e-04</td>\n      <td>1.293068e-02</td>\n      <td>0</td>\n      <td>...</td>\n      <td>0</td>\n      <td>0</td>\n      <td>0</td>\n      <td>0</td>\n      <td>0</td>\n      <td>0</td>\n      <td>0</td>\n      <td>0</td>\n      <td>0</td>\n      <td>0</td>\n    </tr>\n    <tr>\n      <th>13914</th>\n      <td>11517</td>\n      <td>11446</td>\n      <td>0</td>\n      <td>1626</td>\n      <td>0</td>\n      <td>0</td>\n      <td>9.807932e-01</td>\n      <td>4.566931e-04</td>\n      <td>1.875007e-02</td>\n      <td>0</td>\n      <td>...</td>\n      <td>0</td>\n      <td>0</td>\n      <td>0</td>\n      <td>0</td>\n      <td>0</td>\n      <td>0</td>\n      <td>0</td>\n      <td>0</td>\n      <td>0</td>\n      <td>0</td>\n    </tr>\n    <tr>\n      <th>13915</th>\n      <td>13332</td>\n      <td>11446</td>\n      <td>0</td>\n      <td>30</td>\n      <td>0</td>\n      <td>0</td>\n      <td>9.976075e-01</td>\n      <td>3.230286e-07</td>\n      <td>2.392147e-03</td>\n      <td>0</td>\n      <td>...</td>\n      <td>0</td>\n      <td>0</td>\n      <td>0</td>\n      <td>0</td>\n      <td>0</td>\n      <td>0</td>\n      <td>0</td>\n      <td>0</td>\n      <td>0</td>\n      <td>0</td>\n    </tr>\n    <tr>\n      <th>13916</th>\n      <td>14081</td>\n      <td>11446</td>\n      <td>0</td>\n      <td>1531</td>\n      <td>0</td>\n      <td>0</td>\n      <td>9.612151e-01</td>\n      <td>4.129274e-03</td>\n      <td>3.465550e-02</td>\n      <td>0</td>\n      <td>...</td>\n      <td>0</td>\n      <td>0</td>\n      <td>0</td>\n      <td>0</td>\n      <td>0</td>\n      <td>0</td>\n      <td>0</td>\n      <td>0</td>\n      <td>0</td>\n      <td>0</td>\n    </tr>\n    <tr>\n      <th>13917</th>\n      <td>14120</td>\n      <td>11446</td>\n      <td>0</td>\n      <td>1090</td>\n      <td>0</td>\n      <td>0</td>\n      <td>9.449982e-01</td>\n      <td>1.041488e-02</td>\n      <td>4.458696e-02</td>\n      <td>0</td>\n      <td>...</td>\n      <td>0</td>\n      <td>0</td>\n      <td>0</td>\n      <td>0</td>\n      <td>0</td>\n      <td>0</td>\n      <td>0</td>\n      <td>0</td>\n      <td>0</td>\n      <td>0</td>\n    </tr>\n  </tbody>\n</table>\n<p>13918 rows × 16045 columns</p>\n</div>"
     },
     "execution_count": 30,
     "metadata": {},
     "output_type": "execute_result"
    }
   ],
   "source": [
    "dfdata"
   ],
   "metadata": {
    "collapsed": false,
    "pycharm": {
     "name": "#%%\n"
    }
   }
  },
  {
   "cell_type": "code",
   "execution_count": 28,
   "outputs": [
    {
     "data": {
      "text/plain": "Empty DataFrame\nColumns: [index, run, subrun, evt, label, cycle, pdm, pde, pdp, y_preds, predict, E, azimuth, eff, enter.x, enter.y, enter.z, exit.x, exit.y, exit.z, nhitslc, nhittot, p.E, p.px, p.py, p.pz, pdg, penter.E, penter.px, penter.py, penter.pz, rec.mc.cosmic_idx, stop.x, stop.y, stop.z, subevt, time, visE, visEinslc, vtx.x, vtx.y, vtx.z, zenith, euclidean, label_true, 0, 1, 2, 3, 4, 5, 6, 7, 8, 9, 10, 11, 12, 13, 14, 15, 16, 17, 18, 19, 20, 21, 22, 23, 24, 25, 26, 27, 28, 29, 30, 31, 32, 33, 34, 35, 36, 37, 38, 39, 40, 41, 42, 43, 44, 45, 46, 47, 48, 49, 50, 51, 52, 53, 54, ...]\nIndex: []\n\n[0 rows x 16045 columns]",
      "text/html": "<div>\n<style scoped>\n    .dataframe tbody tr th:only-of-type {\n        vertical-align: middle;\n    }\n\n    .dataframe tbody tr th {\n        vertical-align: top;\n    }\n\n    .dataframe thead th {\n        text-align: right;\n    }\n</style>\n<table border=\"1\" class=\"dataframe\">\n  <thead>\n    <tr style=\"text-align: right;\">\n      <th></th>\n      <th>index</th>\n      <th>run</th>\n      <th>subrun</th>\n      <th>evt</th>\n      <th>label</th>\n      <th>cycle</th>\n      <th>pdm</th>\n      <th>pde</th>\n      <th>pdp</th>\n      <th>y_preds</th>\n      <th>...</th>\n      <th>15990</th>\n      <th>15991</th>\n      <th>15992</th>\n      <th>15993</th>\n      <th>15994</th>\n      <th>15995</th>\n      <th>15996</th>\n      <th>15997</th>\n      <th>15998</th>\n      <th>15999</th>\n    </tr>\n  </thead>\n  <tbody>\n  </tbody>\n</table>\n<p>0 rows × 16045 columns</p>\n</div>"
     },
     "execution_count": 28,
     "metadata": {},
     "output_type": "execute_result"
    }
   ],
   "source": [
    "\n",
    "df=dfpred[dfpred['pdg']==-211]\n",
    "#df=df[df['pdm']<0.1]\n",
    "df=df[df['label']!=2]\n",
    "#df=df[df['label']==1]\n",
    "df"
   ],
   "metadata": {
    "collapsed": false,
    "pycharm": {
     "name": "#%%\n"
    }
   }
  },
  {
   "cell_type": "code",
   "execution_count": 29,
   "outputs": [],
   "source": [
    "for i in range(len(df)):\n",
    "    pm=df.iloc[i,45:16048].values\n",
    "    pm=pm.reshape((2,100,80))\n",
    "    pm=np.concatenate((pm[0].reshape((100,80)),pm[1].reshape((100,80))),axis = 1)\n",
    "    pm = np.stack((pm,)*3, axis=-1)\n",
    "    max=np.max(pm)\n",
    "    pm= pm /max\n",
    "    plt.imshow(pm.astype(float),cmap='gray',vmin=0, vmax=max)\n",
    "    plt.colorbar()\n",
    "    plt.show()\n",
    "    img = im.fromarray((pm * 255).astype(np.uint8))\n",
    "    #img.save('./plots/muon pdm 0.72 - 0.78/'+str(i)+'pm.jpg')\n"
   ],
   "metadata": {
    "collapsed": false,
    "pycharm": {
     "name": "#%%\n"
    }
   }
  }
 ],
 "metadata": {
  "kernelspec": {
   "display_name": "Python 3",
   "language": "python",
   "name": "python3"
  },
  "language_info": {
   "codemirror_mode": {
    "name": "ipython",
    "version": 2
   },
   "file_extension": ".py",
   "mimetype": "text/x-python",
   "name": "python",
   "nbconvert_exporter": "python",
   "pygments_lexer": "ipython2",
   "version": "2.7.6"
  }
 },
 "nbformat": 4,
 "nbformat_minor": 0
}